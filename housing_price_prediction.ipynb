{
 "cells": [
  {
   "cell_type": "code",
   "execution_count": 1,
   "id": "bf4c3fe8",
   "metadata": {},
   "outputs": [],
   "source": [
    "import requests"
   ]
  },
  {
   "cell_type": "code",
   "execution_count": 2,
   "id": "4016e355",
   "metadata": {},
   "outputs": [],
   "source": [
    "url =\"https://raw.githubusercontent.com/bursteinalan/Data-Sets/master/Housing/House%20Prediction%20Data.csv\""
   ]
  },
  {
   "cell_type": "code",
   "execution_count": 3,
   "id": "10498949",
   "metadata": {},
   "outputs": [],
   "source": [
    "r=requests.get(url,allow_redirects=True)"
   ]
  },
  {
   "cell_type": "code",
   "execution_count": 4,
   "id": "3ef9bbd7",
   "metadata": {},
   "outputs": [],
   "source": [
    "content=r.content"
   ]
  },
  {
   "cell_type": "code",
   "execution_count": 5,
   "id": "cfa69cb3",
   "metadata": {},
   "outputs": [
    {
     "data": {
      "text/plain": [
       "'Id,MSSubClass,MSZoning,LotFrontage,LotArea,Street,Alley,LotShape,LandContour,Utilities,LotConfig,Lan'"
      ]
     },
     "execution_count": 5,
     "metadata": {},
     "output_type": "execute_result"
    }
   ],
   "source": [
    "r.content.decode(\"utf-8\")[:100]"
   ]
  },
  {
   "cell_type": "code",
   "execution_count": 6,
   "id": "b077877d",
   "metadata": {},
   "outputs": [],
   "source": [
    "file=\"t.csv\""
   ]
  },
  {
   "cell_type": "code",
   "execution_count": 7,
   "id": "b1b2a7e8",
   "metadata": {},
   "outputs": [
    {
     "data": {
      "text/plain": [
       "950547"
      ]
     },
     "execution_count": 7,
     "metadata": {},
     "output_type": "execute_result"
    }
   ],
   "source": [
    "open(file, 'wb').write(content)"
   ]
  },
  {
   "cell_type": "code",
   "execution_count": null,
   "id": "3060eedb",
   "metadata": {},
   "outputs": [],
   "source": []
  }
 ],
 "metadata": {
  "kernelspec": {
   "display_name": "Python 3 (ipykernel)",
   "language": "python",
   "name": "python3"
  },
  "language_info": {
   "codemirror_mode": {
    "name": "ipython",
    "version": 3
   },
   "file_extension": ".py",
   "mimetype": "text/x-python",
   "name": "python",
   "nbconvert_exporter": "python",
   "pygments_lexer": "ipython3",
   "version": "3.9.7"
  }
 },
 "nbformat": 4,
 "nbformat_minor": 5
}
